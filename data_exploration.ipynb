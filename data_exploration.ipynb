{
 "cells": [
  {
   "cell_type": "markdown",
   "metadata": {},
   "source": [
    "### External Sources and packages\n",
    "Below cell lists the external dependencies of this notebook. I have utilized current well known third party libraries such as:\n",
    "\n",
    "- pandas https://pandas.pydata.org/\n",
    "- sklearn https://scikit-learn.org/\n",
    "\n",
    "<br>I have kept the usage of external librairies varied to keep the tasks simplistic and easy to explain and to demonstrate my understanding and usage of the same. For generating graphs and charts:\n",
    "\n",
    "- matplotlib https://matplotlib.org"
   ]
  },
  {
   "cell_type": "code",
   "execution_count": 1,
   "metadata": {},
   "outputs": [
    {
     "name": "stdout",
     "output_type": "stream",
     "text": [
      "all imports worked nicely\n"
     ]
    }
   ],
   "source": [
    "import base64\n",
    "import numpy as np\n",
    "import pandas as pd\n",
    "\n",
    "from matplotlib import pyplot as plt\n",
    "import matplotlib\n",
    "%matplotlib inline\n",
    "\n",
    "from pprint import pprint\n",
    "from collections import Counter\n",
    "\n",
    "print (\"all imports worked nicely\")"
   ]
  },
  {
   "cell_type": "markdown",
   "metadata": {},
   "source": [
    "### Data Exploration\n",
    "1. Parsing the file into a Pandas dataframe\n",
    "2. Checking some of the values for individual columns - entities, id and words\n",
    "3. Understanding the substructure of complex json types: entities and words. Creating sub dataframes from them."
   ]
  },
  {
   "cell_type": "code",
   "execution_count": 2,
   "metadata": {},
   "outputs": [
    {
     "data": {
      "text/html": [
       "<div>\n",
       "<style scoped>\n",
       "    .dataframe tbody tr th:only-of-type {\n",
       "        vertical-align: middle;\n",
       "    }\n",
       "\n",
       "    .dataframe tbody tr th {\n",
       "        vertical-align: top;\n",
       "    }\n",
       "\n",
       "    .dataframe thead th {\n",
       "        text-align: right;\n",
       "    }\n",
       "</style>\n",
       "<table border=\"1\" class=\"dataframe\">\n",
       "  <thead>\n",
       "    <tr style=\"text-align: right;\">\n",
       "      <th></th>\n",
       "      <th>entities</th>\n",
       "      <th>id</th>\n",
       "      <th>words</th>\n",
       "    </tr>\n",
       "  </thead>\n",
       "  <tbody>\n",
       "    <tr>\n",
       "      <th>0</th>\n",
       "      <td>[{'metaData': {'region': {'page': 1}}, 'label': 'item', 'indices': [74]}]</td>\n",
       "      <td>156033512</td>\n",
       "      <td>[{'value': 'cVuUnaOUoZY=', 'region': {'left': 0.212656784492588, 'top': 0.039935457845905006, 'w...</td>\n",
       "    </tr>\n",
       "    <tr>\n",
       "      <th>1</th>\n",
       "      <td>[{'metaData': {'region': {'page': 1}}, 'label': 'item', 'indices': [81, 82, 83, 84, 85, 86]}]</td>\n",
       "      <td>253055966</td>\n",
       "      <td>[{'value': 'fXt2fIV6dImE', 'region': {'left': 0.5992750704792591, 'top': 0.040011431837667005, '...</td>\n",
       "    </tr>\n",
       "    <tr>\n",
       "      <th>2</th>\n",
       "      <td>[{'metaData': {'region': {'page': 1}}, 'label': 'item', 'indices': [21, 22, 23, 24, 25]}]</td>\n",
       "      <td>456561110</td>\n",
       "      <td>[{'value': 'gqeUrQ==', 'region': {'left': 0.272268907563025, 'top': 0.032104637336504004, 'width...</td>\n",
       "    </tr>\n",
       "    <tr>\n",
       "      <th>3</th>\n",
       "      <td>[{'metaData': {'region': {'page': 1}}, 'label': 'item', 'indices': [79]}]</td>\n",
       "      <td>391044810</td>\n",
       "      <td>[{'value': 'hGA=', 'region': {'left': 0.104333868378812, 'top': 0.04519613416714, 'width': 0.045...</td>\n",
       "    </tr>\n",
       "    <tr>\n",
       "      <th>4</th>\n",
       "      <td>[{'metaData': {'region': {'page': 1}}, 'label': 'item', 'indices': [71, 72]}]</td>\n",
       "      <td>427645549</td>\n",
       "      <td>[{'value': 'e4I=', 'region': {'left': 0.7173202614379081, 'top': 0.050505050505050005, 'width': ...</td>\n",
       "    </tr>\n",
       "  </tbody>\n",
       "</table>\n",
       "</div>"
      ],
      "text/plain": [
       "                                                                                        entities  \\\n",
       "0                      [{'metaData': {'region': {'page': 1}}, 'label': 'item', 'indices': [74]}]   \n",
       "1  [{'metaData': {'region': {'page': 1}}, 'label': 'item', 'indices': [81, 82, 83, 84, 85, 86]}]   \n",
       "2      [{'metaData': {'region': {'page': 1}}, 'label': 'item', 'indices': [21, 22, 23, 24, 25]}]   \n",
       "3                      [{'metaData': {'region': {'page': 1}}, 'label': 'item', 'indices': [79]}]   \n",
       "4                  [{'metaData': {'region': {'page': 1}}, 'label': 'item', 'indices': [71, 72]}]   \n",
       "\n",
       "          id  \\\n",
       "0  156033512   \n",
       "1  253055966   \n",
       "2  456561110   \n",
       "3  391044810   \n",
       "4  427645549   \n",
       "\n",
       "                                                                                                 words  \n",
       "0  [{'value': 'cVuUnaOUoZY=', 'region': {'left': 0.212656784492588, 'top': 0.039935457845905006, 'w...  \n",
       "1  [{'value': 'fXt2fIV6dImE', 'region': {'left': 0.5992750704792591, 'top': 0.040011431837667005, '...  \n",
       "2  [{'value': 'gqeUrQ==', 'region': {'left': 0.272268907563025, 'top': 0.032104637336504004, 'width...  \n",
       "3  [{'value': 'hGA=', 'region': {'left': 0.104333868378812, 'top': 0.04519613416714, 'width': 0.045...  \n",
       "4  [{'value': 'e4I=', 'region': {'left': 0.7173202614379081, 'top': 0.050505050505050005, 'width': ...  "
      ]
     },
     "execution_count": 2,
     "metadata": {},
     "output_type": "execute_result"
    }
   ],
   "source": [
    "pd.set_option('display.max_colwidth', 100)\n",
    "df = pd.read_json(\"data/test.json\", orient='columns')\n",
    "# df.describe\n",
    "df.head(5)"
   ]
  },
  {
   "cell_type": "code",
   "execution_count": 3,
   "metadata": {},
   "outputs": [
    {
     "data": {
      "text/html": [
       "<div>\n",
       "<style scoped>\n",
       "    .dataframe tbody tr th:only-of-type {\n",
       "        vertical-align: middle;\n",
       "    }\n",
       "\n",
       "    .dataframe tbody tr th {\n",
       "        vertical-align: top;\n",
       "    }\n",
       "\n",
       "    .dataframe thead th {\n",
       "        text-align: right;\n",
       "    }\n",
       "</style>\n",
       "<table border=\"1\" class=\"dataframe\">\n",
       "  <thead>\n",
       "    <tr style=\"text-align: right;\">\n",
       "      <th></th>\n",
       "      <th>region</th>\n",
       "      <th>value</th>\n",
       "    </tr>\n",
       "  </thead>\n",
       "  <tbody>\n",
       "    <tr>\n",
       "      <th>0</th>\n",
       "      <td>{'left': 0.212656784492588, 'top': 0.039935457845905006, 'width': 0.122576966932725, 'height': 0...</td>\n",
       "      <td>cVuUnaOUoZY=</td>\n",
       "    </tr>\n",
       "    <tr>\n",
       "      <th>1</th>\n",
       "      <td>{'left': 0.705815279361459, 'top': 0.044776119402985, 'width': 0.03933865450399, 'height': 0.013...</td>\n",
       "      <td>cpullp-U</td>\n",
       "    </tr>\n",
       "    <tr>\n",
       "      <th>2</th>\n",
       "      <td>{'left': 0.7494298745724061, 'top': 0.044776119402985, 'width': 0.038768529076396004, 'height': ...</td>\n",
       "      <td>naSYoJKglw==</td>\n",
       "    </tr>\n",
       "    <tr>\n",
       "      <th>3</th>\n",
       "      <td>{'left': 0.6393956670467501, 'top': 0.070189592577652, 'width': 0.020524515393386, 'height': 0.0...</td>\n",
       "      <td>hZqY</td>\n",
       "    </tr>\n",
       "    <tr>\n",
       "      <th>4</th>\n",
       "      <td>{'left': 0.6639110604332951, 'top': 0.070189592577652, 'width': 0.07611174458380801, 'height': 0...</td>\n",
       "      <td>iJOnmaOflKaip5g=</td>\n",
       "    </tr>\n",
       "  </tbody>\n",
       "</table>\n",
       "</div>"
      ],
      "text/plain": [
       "                                                                                                region  \\\n",
       "0  {'left': 0.212656784492588, 'top': 0.039935457845905006, 'width': 0.122576966932725, 'height': 0...   \n",
       "1  {'left': 0.705815279361459, 'top': 0.044776119402985, 'width': 0.03933865450399, 'height': 0.013...   \n",
       "2  {'left': 0.7494298745724061, 'top': 0.044776119402985, 'width': 0.038768529076396004, 'height': ...   \n",
       "3  {'left': 0.6393956670467501, 'top': 0.070189592577652, 'width': 0.020524515393386, 'height': 0.0...   \n",
       "4  {'left': 0.6639110604332951, 'top': 0.070189592577652, 'width': 0.07611174458380801, 'height': 0...   \n",
       "\n",
       "              value  \n",
       "0      cVuUnaOUoZY=  \n",
       "1          cpullp-U  \n",
       "2      naSYoJKglw==  \n",
       "3              hZqY  \n",
       "4  iJOnmaOflKaip5g=  "
      ]
     },
     "execution_count": 3,
     "metadata": {},
     "output_type": "execute_result"
    }
   ],
   "source": [
    "# further exploring \"words\" json object\n",
    "words_column_list = df[\"words\"].tolist()\n",
    "\n",
    "df_words = pd.DataFrame(words_column_list[0])\n",
    "df_words.head()"
   ]
  },
  {
   "cell_type": "code",
   "execution_count": 4,
   "metadata": {
    "scrolled": true
   },
   "outputs": [],
   "source": [
    "# need json_normalize to split the complex json types in sub-columns\n",
    "import json\n",
    "from pandas.io.json import json_normalize\n",
    "#load json object\n",
    "with open('data/train.json') as f:\n",
    "    d = json.load(f)"
   ]
  },
  {
   "cell_type": "code",
   "execution_count": 5,
   "metadata": {},
   "outputs": [
    {
     "data": {
      "text/plain": [
       "24073"
      ]
     },
     "execution_count": 5,
     "metadata": {},
     "output_type": "execute_result"
    }
   ],
   "source": [
    "len(d)"
   ]
  },
  {
   "cell_type": "code",
   "execution_count": 6,
   "metadata": {
    "scrolled": true
   },
   "outputs": [
    {
     "data": {
      "text/html": [
       "<div>\n",
       "<style scoped>\n",
       "    .dataframe tbody tr th:only-of-type {\n",
       "        vertical-align: middle;\n",
       "    }\n",
       "\n",
       "    .dataframe tbody tr th {\n",
       "        vertical-align: top;\n",
       "    }\n",
       "\n",
       "    .dataframe thead th {\n",
       "        text-align: right;\n",
       "    }\n",
       "</style>\n",
       "<table border=\"1\" class=\"dataframe\">\n",
       "  <thead>\n",
       "    <tr style=\"text-align: right;\">\n",
       "      <th></th>\n",
       "      <th>indices</th>\n",
       "      <th>label</th>\n",
       "      <th>metaData</th>\n",
       "      <th>words</th>\n",
       "      <th>id</th>\n",
       "    </tr>\n",
       "  </thead>\n",
       "  <tbody>\n",
       "    <tr>\n",
       "      <th>63340</th>\n",
       "      <td>[68, 69, 70, 71, 72]</td>\n",
       "      <td>item</td>\n",
       "      <td>{'region': {'page': 1}}</td>\n",
       "      <td>[{'value': 'hQ==', 'region': {'left': 0.5142857142857142, 'top': 0.06294536817102138, 'width': 0...</td>\n",
       "      <td>126908410</td>\n",
       "    </tr>\n",
       "    <tr>\n",
       "      <th>63341</th>\n",
       "      <td>[50, 51, 52, 53, 54]</td>\n",
       "      <td>item</td>\n",
       "      <td>{'region': {'page': 1}}</td>\n",
       "      <td>[{'value': 'YmRiaGBkY2Vo', 'region': {'left': 0.031936127744510975, 'top': 0.027822580645161292,...</td>\n",
       "      <td>370155188</td>\n",
       "    </tr>\n",
       "    <tr>\n",
       "      <th>63342</th>\n",
       "      <td>[48, 49, 50, 51, 52, 53, 54, 55, 56]</td>\n",
       "      <td>item</td>\n",
       "      <td>{'region': {'page': 1}}</td>\n",
       "      <td>[{'value': 'fZuVmaOmrA==', 'region': {'left': 0.12773109243697478, 'top': 0.09026128266033254, '...</td>\n",
       "      <td>103014394</td>\n",
       "    </tr>\n",
       "    <tr>\n",
       "      <th>63343</th>\n",
       "      <td>[29, 30]</td>\n",
       "      <td>item</td>\n",
       "      <td>{'region': {'page': 1}}</td>\n",
       "      <td>[{'value': 'f5ufpw==', 'region': {'left': 0.11932773109243698, 'top': 0.8680142687277052, 'width...</td>\n",
       "      <td>187175422</td>\n",
       "    </tr>\n",
       "    <tr>\n",
       "      <th>63344</th>\n",
       "      <td>[65, 66, 67]</td>\n",
       "      <td>item</td>\n",
       "      <td>{'region': {'page': 1}}</td>\n",
       "      <td>[{'value': 'gy6Wn52TpqiklZummpin', 'region': {'left': 0.09411764705882353, 'top': 0.337292161520...</td>\n",
       "      <td>510220123</td>\n",
       "    </tr>\n",
       "  </tbody>\n",
       "</table>\n",
       "</div>"
      ],
      "text/plain": [
       "                                    indices label                 metaData  \\\n",
       "63340                  [68, 69, 70, 71, 72]  item  {'region': {'page': 1}}   \n",
       "63341                  [50, 51, 52, 53, 54]  item  {'region': {'page': 1}}   \n",
       "63342  [48, 49, 50, 51, 52, 53, 54, 55, 56]  item  {'region': {'page': 1}}   \n",
       "63343                              [29, 30]  item  {'region': {'page': 1}}   \n",
       "63344                          [65, 66, 67]  item  {'region': {'page': 1}}   \n",
       "\n",
       "                                                                                                     words  \\\n",
       "63340  [{'value': 'hQ==', 'region': {'left': 0.5142857142857142, 'top': 0.06294536817102138, 'width': 0...   \n",
       "63341  [{'value': 'YmRiaGBkY2Vo', 'region': {'left': 0.031936127744510975, 'top': 0.027822580645161292,...   \n",
       "63342  [{'value': 'fZuVmaOmrA==', 'region': {'left': 0.12773109243697478, 'top': 0.09026128266033254, '...   \n",
       "63343  [{'value': 'f5ufpw==', 'region': {'left': 0.11932773109243698, 'top': 0.8680142687277052, 'width...   \n",
       "63344  [{'value': 'gy6Wn52TpqiklZummpin', 'region': {'left': 0.09411764705882353, 'top': 0.337292161520...   \n",
       "\n",
       "              id  \n",
       "63340  126908410  \n",
       "63341  370155188  \n",
       "63342  103014394  \n",
       "63343  187175422  \n",
       "63344  510220123  "
      ]
     },
     "execution_count": 6,
     "metadata": {},
     "output_type": "execute_result"
    }
   ],
   "source": [
    "# splitting the data-set on entities column\n",
    "# retain the relation with words and id column\n",
    "\n",
    "entities_data = json_normalize(data=d, record_path= ['entities'], \n",
    "                            meta=['words', 'id'])\n",
    "entities_data.tail(5)"
   ]
  },
  {
   "cell_type": "code",
   "execution_count": 7,
   "metadata": {},
   "outputs": [
    {
     "name": "stdout",
     "output_type": "stream",
     "text": [
      "63345 63345 63345\n"
     ]
    }
   ],
   "source": [
    "# generating data for downstream model training and evaluation tasks \n",
    "\n",
    "train_id = entities_data['id'].tolist()\n",
    "train_indices = entities_data['indices'].tolist()\n",
    "train_words = entities_data[\"words\"]\n",
    "\n",
    "print (len(train_id), len(train_indices), len(train_words))"
   ]
  },
  {
   "cell_type": "code",
   "execution_count": 8,
   "metadata": {},
   "outputs": [],
   "source": [
    "# Params: \n",
    "# words_list : word object from train_words list\n",
    "# indice_list : indice object from train_indices\n",
    "# return : a list of labels for each word in word_list\n",
    "#  label 0 : if the word was NOT relevant item\n",
    "#  label 1 : if the word was relevant item, it's index was contained in indices_list\n",
    "\n",
    "def get_label(words_list,indices_list):\n",
    "    labels = []\n",
    "    for i in range(0,len(words_list)):\n",
    "        if (i in indices_list):\n",
    "            labels.append(1)\n",
    "        else:\n",
    "            labels.append(0)\n",
    "    return labels"
   ]
  },
  {
   "cell_type": "markdown",
   "metadata": {},
   "source": [
    "### Parsing the data for downstream model training and evaluation tasks\n",
    "Extracting three KEY aspects of data in the form of list objects from source:\n",
    "1. **words_region[]** information\n",
    "2. **words_value[]** information\n",
    "3. **words_label[]** information"
   ]
  },
  {
   "cell_type": "code",
   "execution_count": 9,
   "metadata": {},
   "outputs": [],
   "source": [
    "train_word_labels = []\n",
    "index = 0\n",
    "for words in train_words:\n",
    "    train_word_labels.append(get_label(words, train_indices[index]))\n",
    "    index += 1"
   ]
  },
  {
   "cell_type": "code",
   "execution_count": 10,
   "metadata": {},
   "outputs": [
    {
     "name": "stdout",
     "output_type": "stream",
     "text": [
      "63345\n",
      "[0, 0, 0, 0, 0, 0, 0, 0, 0, 0, 0, 0, 0, 0, 0, 0, 0, 0, 0, 0, 0, 0, 0, 0, 0, 0, 0, 0, 0, 0, 0, 0, 0, 0, 0, 0, 0, 0, 0, 0, 0, 0, 0, 0, 0, 0, 0, 0, 0, 0, 0, 0, 0, 0, 0, 0, 0, 0, 0, 0, 0, 0, 0, 0, 0, 0, 0, 0, 0, 0, 0, 0, 0, 0, 0, 0, 0, 0, 0, 0, 0, 0, 0, 0, 0, 0, 0, 0, 0, 0, 0, 0, 0, 0, 0, 0, 0, 0, 0, 0, 0, 0, 0, 0, 0, 0, 0, 0, 0, 0, 0, 0, 0, 0, 0, 0, 0, 1, 1, 1, 0, 0, 0, 0, 0, 0, 0, 0, 0, 0, 0, 0, 0, 0, 0, 0, 0, 0, 0, 0, 0, 0, 0, 0, 0, 0, 0, 0, 0, 0, 0, 0, 0, 0, 0, 0, 0, 0, 0, 0, 0, 0, 0, 0, 0, 0, 0, 0, 0, 0, 0, 0, 0, 0, 0, 0, 0, 0, 0, 0, 0, 0, 0, 0, 0, 0, 0, 0, 0, 0, 0, 0, 0, 0, 0, 0, 0, 0, 0, 0, 0, 0, 0, 0, 0, 0, 0, 0, 0, 0, 0, 0, 0, 0, 0, 0, 0, 0, 0, 0, 0, 0, 0, 0, 0, 0, 0, 0, 0, 0, 0, 0, 0, 0, 0, 0, 0, 0, 0, 0, 0, 0, 0, 0, 0, 0, 0, 0, 0, 0, 0, 0, 0, 0, 0, 0, 0, 0, 0, 0, 0, 0, 0, 0, 0, 0, 0, 0, 0, 0, 0, 0, 0, 0, 0, 0, 0, 0, 0, 0, 0, 0, 0, 0, 0, 0, 0, 0, 0, 0, 0, 0, 0, 0, 0, 0, 0, 0, 0, 0, 0, 0, 0, 0, 0, 0, 0, 0, 0, 0, 0, 0, 0, 0, 0, 0, 0, 0, 0, 0, 0, 0, 0, 0, 0, 0, 0, 0, 0, 0, 0, 0, 0, 0, 0, 0, 0, 0, 0, 0, 0, 0, 0, 0, 0, 0, 0, 0, 0, 0, 0, 0, 0, 0, 0, 0, 0, 0, 0, 0, 0, 0, 0, 0, 0, 0, 0, 0, 0, 0, 0, 0, 0, 0, 0, 0, 0, 0, 0, 0, 0, 0, 0, 0, 0, 0, 0, 0, 0, 0, 0, 0, 0, 0, 0, 0, 0]\n",
      "[117, 118, 119]\n",
      "[117 118 119]\n",
      "23813853\n",
      "[0, 0, 0, 0, 0, 0, 0, 0, 0, 0, 0, 0, 0, 0, 0, 0, 0, 0, 0, 0, 0, 0, 0, 0, 0, 0, 0, 0, 0, 0, 0, 0, 0, 0, 0, 0, 0, 0, 0, 0, 0, 0, 0, 0, 0, 0, 0, 0, 0, 0, 0, 0, 0, 0, 0, 0, 0, 0, 0, 0, 0, 0, 0, 0, 0, 0, 0, 0, 0, 0, 0, 0, 0, 0, 0, 0, 0, 0, 0, 0, 0, 0, 0, 0, 0, 0, 0, 0, 0, 0, 0, 0, 0, 0, 0, 0, 0, 0, 0, 0, 0, 0, 0, 0, 0, 0, 0, 0, 0, 0, 0, 0, 0, 0, 0, 0, 0, 1, 1, 1, 0]\n"
     ]
    }
   ],
   "source": [
    "# sanity check on the extracted data\n",
    "# \n",
    "\n",
    "print (len(train_word_labels))\n",
    "print (train_word_labels[0])\n",
    "print (train_indices[0])\n",
    "\n",
    "positive_indices = np.nonzero(train_word_labels[0])[0]\n",
    "\n",
    "print (positive_indices)\n",
    "\n",
    "# flattening the labels list \n",
    "train_word_labels_flatten = [item for sublist in train_word_labels for item in sublist]\n",
    "\n",
    "print (len(train_word_labels_flatten))\n",
    "print (train_word_labels_flatten[:121])"
   ]
  },
  {
   "cell_type": "code",
   "execution_count": 11,
   "metadata": {},
   "outputs": [
    {
     "name": "stdout",
     "output_type": "stream",
     "text": [
      "23813853\n",
      "{'value': 'U1Raiug=', 'region': {'left': 0.3712528823981553, 'top': 0.020022246941045607, 'width': 0.025749423520368946, 'height': 0.015016685205784204, 'page': '1'}}\n"
     ]
    }
   ],
   "source": [
    "flatten_word_dict = [item for sublist in train_words for item in sublist]\n",
    "print (len(flatten_word_dict))\n",
    "print (flatten_word_dict[0])"
   ]
  },
  {
   "cell_type": "code",
   "execution_count": 12,
   "metadata": {},
   "outputs": [
    {
     "name": "stdout",
     "output_type": "stream",
     "text": [
      "23813853 23813853 23813853\n"
     ]
    }
   ],
   "source": [
    "train_word_values = [word[\"value\"] for word in flatten_word_dict]\n",
    "train_word_position = [word[\"region\"] for word in flatten_word_dict]\n",
    "\n",
    "print (len(train_word_values), len(train_word_position), len(train_word_labels_flatten))"
   ]
  },
  {
   "cell_type": "code",
   "execution_count": 13,
   "metadata": {},
   "outputs": [
    {
     "data": {
      "text/html": [
       "<div>\n",
       "<style scoped>\n",
       "    .dataframe tbody tr th:only-of-type {\n",
       "        vertical-align: middle;\n",
       "    }\n",
       "\n",
       "    .dataframe tbody tr th {\n",
       "        vertical-align: top;\n",
       "    }\n",
       "\n",
       "    .dataframe thead th {\n",
       "        text-align: right;\n",
       "    }\n",
       "</style>\n",
       "<table border=\"1\" class=\"dataframe\">\n",
       "  <thead>\n",
       "    <tr style=\"text-align: right;\">\n",
       "      <th></th>\n",
       "      <th>height</th>\n",
       "      <th>left</th>\n",
       "      <th>page</th>\n",
       "      <th>top</th>\n",
       "      <th>width</th>\n",
       "    </tr>\n",
       "  </thead>\n",
       "  <tbody>\n",
       "    <tr>\n",
       "      <th>0</th>\n",
       "      <td>0.015017</td>\n",
       "      <td>0.371253</td>\n",
       "      <td>1</td>\n",
       "      <td>0.020022</td>\n",
       "      <td>0.025749</td>\n",
       "    </tr>\n",
       "    <tr>\n",
       "      <th>1</th>\n",
       "      <td>0.028087</td>\n",
       "      <td>0.345503</td>\n",
       "      <td>1</td>\n",
       "      <td>0.033092</td>\n",
       "      <td>0.224058</td>\n",
       "    </tr>\n",
       "    <tr>\n",
       "      <th>2</th>\n",
       "      <td>0.017798</td>\n",
       "      <td>0.345503</td>\n",
       "      <td>1</td>\n",
       "      <td>0.050334</td>\n",
       "      <td>0.039201</td>\n",
       "    </tr>\n",
       "    <tr>\n",
       "      <th>3</th>\n",
       "      <td>0.005840</td>\n",
       "      <td>0.406995</td>\n",
       "      <td>1</td>\n",
       "      <td>0.062291</td>\n",
       "      <td>0.048040</td>\n",
       "    </tr>\n",
       "    <tr>\n",
       "      <th>4</th>\n",
       "      <td>0.005562</td>\n",
       "      <td>0.463874</td>\n",
       "      <td>1</td>\n",
       "      <td>0.062291</td>\n",
       "      <td>0.007302</td>\n",
       "    </tr>\n",
       "  </tbody>\n",
       "</table>\n",
       "</div>"
      ],
      "text/plain": [
       "     height      left page       top     width\n",
       "0  0.015017  0.371253    1  0.020022  0.025749\n",
       "1  0.028087  0.345503    1  0.033092  0.224058\n",
       "2  0.017798  0.345503    1  0.050334  0.039201\n",
       "3  0.005840  0.406995    1  0.062291  0.048040\n",
       "4  0.005562  0.463874    1  0.062291  0.007302"
      ]
     },
     "execution_count": 13,
     "metadata": {},
     "output_type": "execute_result"
    }
   ],
   "source": [
    "train_word_position_df = pd.DataFrame(train_word_position[:1000])\n",
    "train_word_position_df.head()"
   ]
  },
  {
   "cell_type": "code",
   "execution_count": 14,
   "metadata": {},
   "outputs": [
    {
     "name": "stderr",
     "output_type": "stream",
     "text": [
      "/home/rshringi/anaconda3/envs/py3/lib/python3.7/site-packages/ipykernel_launcher.py:5: FutureWarning: from_items is deprecated. Please use DataFrame.from_dict(dict(items), ...) instead. DataFrame.from_dict(OrderedDict(items)) may be used to preserve the key order.\n",
      "  \"\"\"\n"
     ]
    },
    {
     "data": {
      "text/html": [
       "<div>\n",
       "<style scoped>\n",
       "    .dataframe tbody tr th:only-of-type {\n",
       "        vertical-align: middle;\n",
       "    }\n",
       "\n",
       "    .dataframe tbody tr th {\n",
       "        vertical-align: top;\n",
       "    }\n",
       "\n",
       "    .dataframe thead th {\n",
       "        text-align: right;\n",
       "    }\n",
       "</style>\n",
       "<table border=\"1\" class=\"dataframe\">\n",
       "  <thead>\n",
       "    <tr style=\"text-align: right;\">\n",
       "      <th></th>\n",
       "      <th>region</th>\n",
       "      <th>value</th>\n",
       "      <th>label</th>\n",
       "    </tr>\n",
       "  </thead>\n",
       "  <tbody>\n",
       "    <tr>\n",
       "      <th>0</th>\n",
       "      <td>{'left': 0.3712528823981553, 'top': 0.020022246941045607, 'width': 0.025749423520368946, 'height...</td>\n",
       "      <td>U1Raiug=</td>\n",
       "      <td>0</td>\n",
       "    </tr>\n",
       "    <tr>\n",
       "      <th>1</th>\n",
       "      <td>{'left': 0.34550345887778633, 'top': 0.03309232480533927, 'width': 0.22405841660261339, 'height'...</td>\n",
       "      <td>WC8whnZ1fnk=</td>\n",
       "      <td>0</td>\n",
       "    </tr>\n",
       "    <tr>\n",
       "      <th>2</th>\n",
       "      <td>{'left': 0.34550345887778633, 'top': 0.050333704115684094, 'width': 0.03920061491160646, 'height...</td>\n",
       "      <td>Lg==</td>\n",
       "      <td>0</td>\n",
       "    </tr>\n",
       "    <tr>\n",
       "      <th>3</th>\n",
       "      <td>{'left': 0.4069946195234435, 'top': 0.06229143492769744, 'width': 0.048039969254419675, 'height'...</td>\n",
       "      <td>d354fYR1ew==</td>\n",
       "      <td>0</td>\n",
       "    </tr>\n",
       "    <tr>\n",
       "      <th>4</th>\n",
       "      <td>{'left': 0.4638739431206764, 'top': 0.06229143492769744, 'width': 0.007302075326671791, 'height'...</td>\n",
       "      <td>Vw==</td>\n",
       "      <td>0</td>\n",
       "    </tr>\n",
       "  </tbody>\n",
       "</table>\n",
       "</div>"
      ],
      "text/plain": [
       "                                                                                                region  \\\n",
       "0  {'left': 0.3712528823981553, 'top': 0.020022246941045607, 'width': 0.025749423520368946, 'height...   \n",
       "1  {'left': 0.34550345887778633, 'top': 0.03309232480533927, 'width': 0.22405841660261339, 'height'...   \n",
       "2  {'left': 0.34550345887778633, 'top': 0.050333704115684094, 'width': 0.03920061491160646, 'height...   \n",
       "3  {'left': 0.4069946195234435, 'top': 0.06229143492769744, 'width': 0.048039969254419675, 'height'...   \n",
       "4  {'left': 0.4638739431206764, 'top': 0.06229143492769744, 'width': 0.007302075326671791, 'height'...   \n",
       "\n",
       "          value  label  \n",
       "0      U1Raiug=      0  \n",
       "1  WC8whnZ1fnk=      0  \n",
       "2          Lg==      0  \n",
       "3  d354fYR1ew==      0  \n",
       "4          Vw==      0  "
      ]
     },
     "execution_count": 14,
     "metadata": {},
     "output_type": "execute_result"
    }
   ],
   "source": [
    "train_data_sample = [('region', train_word_position[:1000]),\n",
    "         ('value', train_word_values[:1000]),\n",
    "         ('label', train_word_labels_flatten[:1000]),\n",
    "         ]\n",
    "df = pd.DataFrame.from_items(train_data_sample)\n",
    "df.head(5)"
   ]
  },
  {
   "cell_type": "code",
   "execution_count": 15,
   "metadata": {},
   "outputs": [
    {
     "data": {
      "image/png": "[encoded data removed]",
      "text/plain": [
       "<Figure size 432x288 with 1 Axes>"
      ]
     },
     "metadata": {
      "needs_background": "light"
     },
     "output_type": "display_data"
    }
   ],
   "source": [
    "# checking for class distribution : class imbalance?\n",
    "from collections import Counter\n",
    "class_distribution = Counter(train_word_labels_flatten)\n",
    "\n",
    "objects = ('label_0', 'label_1')\n",
    "y_pos = np.arange(len(objects))\n",
    "performance = [class_distribution[0], class_distribution[1]]\n",
    "\n",
    "plt.bar(y_pos, performance, align='center', alpha=0.5)\n",
    "plt.xticks(y_pos, objects)\n",
    "plt.ylabel('Count')\n",
    "plt.title('Class labels')\n",
    "\n",
    "plt.show()"
   ]
  },
  {
   "cell_type": "code",
   "execution_count": 16,
   "metadata": {
    "scrolled": true
   },
   "outputs": [
    {
     "name": "stdout",
     "output_type": "stream",
     "text": [
      "Sanity Check, length of test_id:2108,test_indices:2108,test_words:2108\n",
      "Sanity Check flattened data, length of test_word_values:759967,test_word_position:759967,test_words_labels:759967\n"
     ]
    }
   ],
   "source": [
    "# Preparing test-data set:\n",
    "# similar method as train-data set\n",
    "\n",
    "with open('data/test.json') as json_file:  \n",
    "    data = json.load(json_file)\n",
    "\n",
    "# splitting the data-set on entities column\n",
    "# retain the relation with words and id column\n",
    "\n",
    "entities_data = json_normalize(data=data, record_path= ['entities'], \n",
    "                            meta=['words', 'id'])\n",
    "entities_data.tail(5)\n",
    "test_id = entities_data['id'].tolist()\n",
    "test_indices = entities_data['indices'].tolist()\n",
    "test_words = entities_data[\"words\"]\n",
    "\n",
    "print (\"Sanity Check, length of test_id:%d,test_indices:%d,test_words:%d\" % (len(test_id), \n",
    "        len(test_indices), len(test_words)))\n",
    "\n",
    "\n",
    "# extract the labels:\n",
    "\n",
    "test_word_labels = []\n",
    "index = 0\n",
    "for words in test_words:\n",
    "    test_word_labels.append(get_label(words, test_indices[index]))\n",
    "    index += 1\n",
    "\n",
    "# flattening the labels list \n",
    "test_word_labels_flatten = [item for sublist in test_word_labels for item in sublist]\n",
    "flatten_word_dict = [item for sublist in test_words for item in sublist]\n",
    "\n",
    "test_word_values = [word[\"value\"] for word in flatten_word_dict]\n",
    "test_word_position = [word[\"region\"] for word in flatten_word_dict]\n",
    "\n",
    "print (\"Sanity Check flattened data, length of test_word_values:%d,test_word_position:%d,test_words_labels:%d\"\n",
    "       % (len(test_word_values), len(test_word_position), len(test_word_labels_flatten)))"
   ]
  },
  {
   "cell_type": "code",
   "execution_count": 17,
   "metadata": {},
   "outputs": [
    {
     "name": "stderr",
     "output_type": "stream",
     "text": [
      "/home/rshringi/anaconda3/envs/py3/lib/python3.7/site-packages/ipykernel_launcher.py:5: FutureWarning: from_items is deprecated. Please use DataFrame.from_dict(dict(items), ...) instead. DataFrame.from_dict(OrderedDict(items)) may be used to preserve the key order.\n",
      "  \"\"\"\n"
     ]
    },
    {
     "data": {
      "text/html": [
       "<div>\n",
       "<style scoped>\n",
       "    .dataframe tbody tr th:only-of-type {\n",
       "        vertical-align: middle;\n",
       "    }\n",
       "\n",
       "    .dataframe tbody tr th {\n",
       "        vertical-align: top;\n",
       "    }\n",
       "\n",
       "    .dataframe thead th {\n",
       "        text-align: right;\n",
       "    }\n",
       "</style>\n",
       "<table border=\"1\" class=\"dataframe\">\n",
       "  <thead>\n",
       "    <tr style=\"text-align: right;\">\n",
       "      <th></th>\n",
       "      <th>region</th>\n",
       "      <th>value</th>\n",
       "      <th>label</th>\n",
       "    </tr>\n",
       "  </thead>\n",
       "  <tbody>\n",
       "    <tr>\n",
       "      <th>0</th>\n",
       "      <td>{'left': 0.21265678449258837, 'top': 0.03993545784590561, 'width': 0.1225769669327252, 'height':...</td>\n",
       "      <td>cVuUnaOUoZY=</td>\n",
       "      <td>0</td>\n",
       "    </tr>\n",
       "    <tr>\n",
       "      <th>1</th>\n",
       "      <td>{'left': 0.7058152793614595, 'top': 0.04477611940298507, 'width': 0.03933865450399088, 'height':...</td>\n",
       "      <td>cpullp-U</td>\n",
       "      <td>0</td>\n",
       "    </tr>\n",
       "    <tr>\n",
       "      <th>2</th>\n",
       "      <td>{'left': 0.749429874572406, 'top': 0.04477611940298507, 'width': 0.03876852907639681, 'height': ...</td>\n",
       "      <td>naSYoJKglw==</td>\n",
       "      <td>0</td>\n",
       "    </tr>\n",
       "    <tr>\n",
       "      <th>3</th>\n",
       "      <td>{'left': 0.6393956670467503, 'top': 0.07018959257765228, 'width': 0.020524515393386546, 'height'...</td>\n",
       "      <td>hZqY</td>\n",
       "      <td>0</td>\n",
       "    </tr>\n",
       "    <tr>\n",
       "      <th>4</th>\n",
       "      <td>{'left': 0.6639110604332953, 'top': 0.07018959257765228, 'width': 0.07611174458380844, 'height':...</td>\n",
       "      <td>iJOnmaOflKaip5g=</td>\n",
       "      <td>0</td>\n",
       "    </tr>\n",
       "  </tbody>\n",
       "</table>\n",
       "</div>"
      ],
      "text/plain": [
       "                                                                                                region  \\\n",
       "0  {'left': 0.21265678449258837, 'top': 0.03993545784590561, 'width': 0.1225769669327252, 'height':...   \n",
       "1  {'left': 0.7058152793614595, 'top': 0.04477611940298507, 'width': 0.03933865450399088, 'height':...   \n",
       "2  {'left': 0.749429874572406, 'top': 0.04477611940298507, 'width': 0.03876852907639681, 'height': ...   \n",
       "3  {'left': 0.6393956670467503, 'top': 0.07018959257765228, 'width': 0.020524515393386546, 'height'...   \n",
       "4  {'left': 0.6639110604332953, 'top': 0.07018959257765228, 'width': 0.07611174458380844, 'height':...   \n",
       "\n",
       "              value  label  \n",
       "0      cVuUnaOUoZY=      0  \n",
       "1          cpullp-U      0  \n",
       "2      naSYoJKglw==      0  \n",
       "3              hZqY      0  \n",
       "4  iJOnmaOflKaip5g=      0  "
      ]
     },
     "execution_count": 17,
     "metadata": {},
     "output_type": "execute_result"
    }
   ],
   "source": [
    "test_data_sample = [('region', test_word_position[:1000]),\n",
    "         ('value', test_word_values[:1000]),\n",
    "         ('label', test_word_labels_flatten[:1000]),\n",
    "         ]\n",
    "df = pd.DataFrame.from_items(test_data_sample)\n",
    "df.head()"
   ]
  },
  {
   "cell_type": "code",
   "execution_count": 18,
   "metadata": {},
   "outputs": [
    {
     "data": {
      "image/png": "[encoded data removed]",
      "text/plain": [
       "<Figure size 432x288 with 1 Axes>"
      ]
     },
     "metadata": {
      "needs_background": "light"
     },
     "output_type": "display_data"
    }
   ],
   "source": [
    "# checking for class distribution : class imbalance? in test-data \n",
    "from collections import Counter\n",
    "class_distribution = Counter(test_word_labels_flatten)\n",
    "\n",
    "objects = ('label_0', 'label_1')\n",
    "y_pos = np.arange(len(objects))\n",
    "performance = [class_distribution[0], class_distribution[1]]\n",
    "\n",
    "plt.bar(y_pos, performance, align='center', alpha=0.5)\n",
    "plt.xticks(y_pos, objects)\n",
    "plt.ylabel('Count')\n",
    "plt.title('Class labels')\n",
    "\n",
    "plt.show()"
   ]
  },
  {
   "cell_type": "markdown",
   "metadata": {},
   "source": [
    "### Inferences :\n",
    "1. High **class imbalance** is evident in both train and test data set.\n",
    "2. \"accuracy\" NOT being the correct measure of model preformance in this case.\n",
    "3. **Precision, Recall** and combination methods **f-measure** should be utilized, **confusion matrix** must be generated.\n",
    "4. Need to **Upsample**(low class frequency data) or **Downsample**(high class frequency data) to train a model."
   ]
  },
  {
   "cell_type": "markdown",
   "metadata": {},
   "source": [
    "### Downsampling data:\n",
    "- getting a list of indices for all items with class 1\n",
    "- getting a comparable size of list of indices of iteems with class 0, thus **removing class imbalance**\n",
    "- using the data from these items to train a model"
   ]
  },
  {
   "cell_type": "code",
   "execution_count": 19,
   "metadata": {},
   "outputs": [],
   "source": [
    "# @Params:\n",
    "# train_word_labels : class labels for unbalanced original data\n",
    "# margin: variable to iterate over low number class data\n",
    "\n",
    "def downsample_data(train_word_labels, margin):\n",
    "    indices_total = [item for item in range(0, len(train_word_labels))]\n",
    "    \n",
    "    indices_class_1 = np.nonzero(train_word_labels)[0] # get the index of items with label 1\n",
    "    print (\"number of items with Class 1 %d\" % len(indices_class_1))\n",
    "    print (\"index of first 10 words with class label 1 %s\" % indices_class_1[:10])\n",
    "        \n",
    "    # iterate over the length of minority class items(with added margin) and get items which are not in class 1 \n",
    "    indices_class_0 = [item for item in range(0, (len(indices_class_1) + margin)) if item not in indices_class_1]\n",
    "    print (\"number of items with Class 0 %d\" % len(indices_class_0))\n",
    "    print (\"index of first 10 words with class label 0 %s\" % indices_class_0[:10])\n",
    "    \n",
    "    return indices_class_1, indices_class_0    "
   ]
  },
  {
   "cell_type": "code",
   "execution_count": 22,
   "metadata": {},
   "outputs": [
    {
     "name": "stdout",
     "output_type": "stream",
     "text": [
      "number of items with Class 1 288667\n",
      "index of first 10 words with class label 1 [ 117  118  119  530  531  532  533  939 1345 1346]\n",
      "number of items with Class 0 289775\n",
      "index of first 10 words with class label 0 [0, 1, 2, 3, 4, 5, 6, 7, 8, 9]\n"
     ]
    }
   ],
   "source": [
    "# downsampled train data\n",
    "train_data_indices_downsampled = []\n",
    "indices_class_1, indices_class_0 = downsample_data(train_word_labels_flatten, 5000)\n",
    "train_data_indices_downsampled.extend(indices_class_1)\n",
    "train_data_indices_downsampled.extend(indices_class_0)"
   ]
  },
  {
   "cell_type": "code",
   "execution_count": 21,
   "metadata": {},
   "outputs": [
    {
     "name": "stdout",
     "output_type": "stream",
     "text": [
      "number of items with Class 1 10074\n",
      "index of first 10 words with class label 1 [ 74 387 388 389 390 391 392 542 543 544]\n",
      "number of items with Class 0 10931\n",
      "index of first 10 words with class label 0 [0, 1, 2, 3, 4, 5, 6, 7, 8, 9]\n"
     ]
    }
   ],
   "source": [
    "# downsampled test data\n",
    "test_data_indices_downsampled = []\n",
    "indices_class_1, indices_class_0 = downsample_data(test_word_labels_flatten, 1000)\n",
    "test_data_indices_downsampled.extend(indices_class_1)\n",
    "test_data_indices_downsampled.extend(indices_class_0)"
   ]
  },
  {
   "cell_type": "code",
   "execution_count": 95,
   "metadata": {},
   "outputs": [],
   "source": [
    "def separate_downsampled_data(data_indices_downsampled, word_positions, word_labels):\n",
    "    wp_left, wp_top, wp_width, wp_height, word_labels_downsampled = [], [], [], [], [] \n",
    "    for i in data_indices_downsampled:\n",
    "        wp_left.append(word_positions[i][\"left\"])\n",
    "        wp_top.append(word_positions[i][\"top\"])\n",
    "        wp_width.append(word_positions[i][\"width\"])\n",
    "        wp_height.append(word_positions[i][\"height\"])\n",
    "        \n",
    "        word_labels_downsampled.append(word_labels[i])\n",
    "        \n",
    "    # putting this all in a dataframe\n",
    "    data = [('wp_left', wp_left),\n",
    "     ('wp_top', wp_top),\n",
    "     ('wp_width', wp_width),\n",
    "     ('wp_height', wp_height),\n",
    "     ('word_label', word_labels_downsampled)\n",
    "     ]\n",
    "    df = pd.DataFrame.from_items(data)\n",
    "    return df "
   ]
  },
  {
   "cell_type": "markdown",
   "metadata": {},
   "source": [
    "### Logistic Regression:\n",
    "- training **two vanilla logistic regression** models\n",
    "- first one takes all position location as input\n",
    "- second one takes only left and top location data as input"
   ]
  },
  {
   "cell_type": "code",
   "execution_count": 96,
   "metadata": {},
   "outputs": [
    {
     "name": "stderr",
     "output_type": "stream",
     "text": [
      "/home/rshringi/anaconda3/envs/py3/lib/python3.7/site-packages/ipykernel_launcher.py:18: FutureWarning: from_items is deprecated. Please use DataFrame.from_dict(dict(items), ...) instead. DataFrame.from_dict(OrderedDict(items)) may be used to preserve the key order.\n"
     ]
    },
    {
     "data": {
      "text/html": [
       "<div>\n",
       "<style scoped>\n",
       "    .dataframe tbody tr th:only-of-type {\n",
       "        vertical-align: middle;\n",
       "    }\n",
       "\n",
       "    .dataframe tbody tr th {\n",
       "        vertical-align: top;\n",
       "    }\n",
       "\n",
       "    .dataframe thead th {\n",
       "        text-align: right;\n",
       "    }\n",
       "</style>\n",
       "<table border=\"1\" class=\"dataframe\">\n",
       "  <thead>\n",
       "    <tr style=\"text-align: right;\">\n",
       "      <th></th>\n",
       "      <th>wp_left</th>\n",
       "      <th>wp_top</th>\n",
       "      <th>wp_width</th>\n",
       "      <th>wp_height</th>\n",
       "      <th>word_label</th>\n",
       "    </tr>\n",
       "  </thead>\n",
       "  <tbody>\n",
       "    <tr>\n",
       "      <th>0</th>\n",
       "      <td>0.188317</td>\n",
       "      <td>0.429644</td>\n",
       "      <td>0.067256</td>\n",
       "      <td>0.007230</td>\n",
       "      <td>1</td>\n",
       "    </tr>\n",
       "    <tr>\n",
       "      <th>1</th>\n",
       "      <td>0.260569</td>\n",
       "      <td>0.429922</td>\n",
       "      <td>0.055726</td>\n",
       "      <td>0.006952</td>\n",
       "      <td>1</td>\n",
       "    </tr>\n",
       "    <tr>\n",
       "      <th>2</th>\n",
       "      <td>0.320907</td>\n",
       "      <td>0.429922</td>\n",
       "      <td>0.068025</td>\n",
       "      <td>0.008621</td>\n",
       "      <td>1</td>\n",
       "    </tr>\n",
       "    <tr>\n",
       "      <th>3</th>\n",
       "      <td>0.187548</td>\n",
       "      <td>0.486930</td>\n",
       "      <td>0.137586</td>\n",
       "      <td>0.006952</td>\n",
       "      <td>1</td>\n",
       "    </tr>\n",
       "    <tr>\n",
       "      <th>4</th>\n",
       "      <td>0.329362</td>\n",
       "      <td>0.487208</td>\n",
       "      <td>0.037279</td>\n",
       "      <td>0.006674</td>\n",
       "      <td>1</td>\n",
       "    </tr>\n",
       "  </tbody>\n",
       "</table>\n",
       "</div>"
      ],
      "text/plain": [
       "    wp_left    wp_top  wp_width  wp_height  word_label\n",
       "0  0.188317  0.429644  0.067256   0.007230           1\n",
       "1  0.260569  0.429922  0.055726   0.006952           1\n",
       "2  0.320907  0.429922  0.068025   0.008621           1\n",
       "3  0.187548  0.486930  0.137586   0.006952           1\n",
       "4  0.329362  0.487208  0.037279   0.006674           1"
      ]
     },
     "execution_count": 96,
     "metadata": {},
     "output_type": "execute_result"
    }
   ],
   "source": [
    "# separating downsampled train data for model training\n",
    "\n",
    "df = separate_downsampled_data(train_data_indices_downsampled, train_word_position, train_word_labels_flatten)\n",
    "\n",
    "# quick look into training data\n",
    "df.head()"
   ]
  },
  {
   "cell_type": "code",
   "execution_count": 98,
   "metadata": {},
   "outputs": [
    {
     "name": "stderr",
     "output_type": "stream",
     "text": [
      "/home/rshringi/anaconda3/envs/py3/lib/python3.7/site-packages/ipykernel_launcher.py:18: FutureWarning: from_items is deprecated. Please use DataFrame.from_dict(dict(items), ...) instead. DataFrame.from_dict(OrderedDict(items)) may be used to preserve the key order.\n"
     ]
    },
    {
     "data": {
      "text/html": [
       "<div>\n",
       "<style scoped>\n",
       "    .dataframe tbody tr th:only-of-type {\n",
       "        vertical-align: middle;\n",
       "    }\n",
       "\n",
       "    .dataframe tbody tr th {\n",
       "        vertical-align: top;\n",
       "    }\n",
       "\n",
       "    .dataframe thead th {\n",
       "        text-align: right;\n",
       "    }\n",
       "</style>\n",
       "<table border=\"1\" class=\"dataframe\">\n",
       "  <thead>\n",
       "    <tr style=\"text-align: right;\">\n",
       "      <th></th>\n",
       "      <th>wp_left</th>\n",
       "      <th>wp_top</th>\n",
       "      <th>wp_width</th>\n",
       "      <th>wp_height</th>\n",
       "      <th>word_label</th>\n",
       "    </tr>\n",
       "  </thead>\n",
       "  <tbody>\n",
       "    <tr>\n",
       "      <th>0</th>\n",
       "      <td>0.480901</td>\n",
       "      <td>0.624445</td>\n",
       "      <td>0.040194</td>\n",
       "      <td>0.016539</td>\n",
       "      <td>1</td>\n",
       "    </tr>\n",
       "    <tr>\n",
       "      <th>1</th>\n",
       "      <td>0.239227</td>\n",
       "      <td>0.510717</td>\n",
       "      <td>0.004027</td>\n",
       "      <td>0.000857</td>\n",
       "      <td>1</td>\n",
       "    </tr>\n",
       "    <tr>\n",
       "      <th>2</th>\n",
       "      <td>0.250503</td>\n",
       "      <td>0.507002</td>\n",
       "      <td>0.083367</td>\n",
       "      <td>0.009145</td>\n",
       "      <td>1</td>\n",
       "    </tr>\n",
       "    <tr>\n",
       "      <th>3</th>\n",
       "      <td>0.341120</td>\n",
       "      <td>0.507002</td>\n",
       "      <td>0.022956</td>\n",
       "      <td>0.007431</td>\n",
       "      <td>1</td>\n",
       "    </tr>\n",
       "    <tr>\n",
       "      <th>4</th>\n",
       "      <td>0.371325</td>\n",
       "      <td>0.507002</td>\n",
       "      <td>0.074104</td>\n",
       "      <td>0.009145</td>\n",
       "      <td>1</td>\n",
       "    </tr>\n",
       "  </tbody>\n",
       "</table>\n",
       "</div>"
      ],
      "text/plain": [
       "    wp_left    wp_top  wp_width  wp_height  word_label\n",
       "0  0.480901  0.624445  0.040194   0.016539           1\n",
       "1  0.239227  0.510717  0.004027   0.000857           1\n",
       "2  0.250503  0.507002  0.083367   0.009145           1\n",
       "3  0.341120  0.507002  0.022956   0.007431           1\n",
       "4  0.371325  0.507002  0.074104   0.009145           1"
      ]
     },
     "execution_count": 98,
     "metadata": {},
     "output_type": "execute_result"
    }
   ],
   "source": [
    "# separating downsampled test data for model validation\n",
    "\n",
    "df_test = separate_downsampled_data(test_data_indices_downsampled, test_word_position, test_word_labels_flatten)\n",
    "\n",
    "# quick look into testing data\n",
    "df_test.head()"
   ]
  },
  {
   "cell_type": "code",
   "execution_count": 113,
   "metadata": {},
   "outputs": [],
   "source": [
    "from sklearn import linear_model\n",
    "\n",
    "# Load data\n",
    "# X = feature values, all the columns except the last column\n",
    "# split dataset in features and target variable\n",
    "\n",
    "feature_cols = ['wp_left', 'wp_top', 'wp_width', 'wp_height']\n",
    "\n",
    "X = df[feature_cols] # Features: left, top, width, height\n",
    "\n",
    "y = df.word_label # Target variable\n",
    "\n",
    "\n",
    "# filter out the words with class label 1\n",
    "class_1 = df.loc[y == 1]\n",
    "\n",
    "# filter out the words with class label 0\n",
    "class_0 = df.loc[y == 0]\n",
    "\n",
    "# # plots\n",
    "# plt.scatter(class_1.iloc[:, 0], class_1.iloc[:, 1], s=10, label='class 1')\n",
    "# plt.scatter(class_0.iloc[:, 0], class_0.iloc[:, 1], s=10, label='calss 0')\n",
    "# plt.legend()\n",
    "# plt.show()\n",
    "\n",
    "# Fit (train) the Logistic Regression classifier\n",
    "clf = linear_model.LogisticRegression(C=1e40, solver='newton-cg')\n",
    "fitted_model = clf.fit(X, y)"
   ]
  },
  {
   "cell_type": "code",
   "execution_count": 114,
   "metadata": {},
   "outputs": [
    {
     "name": "stdout",
     "output_type": "stream",
     "text": [
      "Accuracy: 0.6512735063080219\n",
      "Precision: 0.6261356336606405\n",
      "Recall: 0.6772880682946198\n"
     ]
    }
   ],
   "source": [
    "from sklearn import metrics\n",
    "# split dataset in features and target variable\n",
    "X_test = df_test[feature_cols] # Features: left, top, width, height\n",
    "\n",
    "y_test = df_test.word_label # Target variable\n",
    "\n",
    "predicted_classes = fitted_model.predict(X_test)\n",
    "\n",
    "print(\"Accuracy:\",metrics.accuracy_score(y_test, predicted_classes))\n",
    "print(\"Precision:\",metrics.precision_score(y_test, predicted_classes))\n",
    "print(\"Recall:\",metrics.recall_score(y_test, predicted_classes))"
   ]
  },
  {
   "cell_type": "code",
   "execution_count": 117,
   "metadata": {},
   "outputs": [
    {
     "name": "stdout",
     "output_type": "stream",
     "text": [
      "Accuracy: 0.6687931444894073\n",
      "Precision: 0.6467375953300066\n",
      "Recall: 0.6818542783402819\n"
     ]
    }
   ],
   "source": [
    "# retraining the same model but with only two parameters\n",
    "feature_cols = ['wp_left', 'wp_top']\n",
    "\n",
    "X = df[feature_cols] # Features: left, top\n",
    "\n",
    "y = df.word_label # Target variable\n",
    "\n",
    "# Fit (train) the Logistic Regression classifier\n",
    "clf = linear_model.LogisticRegression(C=1e40, solver='newton-cg')\n",
    "fitted_model1 = clf.fit(X, y)\n",
    "\n",
    "X_test = df_test[feature_cols] # Features: left, top\n",
    "\n",
    "y_test = df_test.word_label # Target variable\n",
    "\n",
    "predicted_classes1 = fitted_model1.predict(X_test)\n",
    "\n",
    "print(\"Accuracy:\",metrics.accuracy_score(y_test, predicted_classes1))\n",
    "print(\"Precision:\",metrics.precision_score(y_test, predicted_classes1))\n",
    "print(\"Recall:\",metrics.recall_score(y_test, predicted_classes1))"
   ]
  },
  {
   "cell_type": "markdown",
   "metadata": {},
   "source": [
    "### Inferences:\n",
    "* It can be seen that a simple logistic regression reaches the recall of 68%\n",
    "* The **model with only top and left position data** outperform model with all position data including width and height.\n",
    "* This can suggest that we can NOT directly provide width and height data as features but need to combine them with left and top data.\n",
    "    * One such way can be to calculate co-ordinates of bounding box [(x1,y1),(x2,y2),(x3,y3),(x4,y4)]"
   ]
  },
  {
   "cell_type": "code",
   "execution_count": 118,
   "metadata": {},
   "outputs": [
    {
     "data": {
      "text/html": [
       "<div>\n",
       "<style scoped>\n",
       "    .dataframe tbody tr th:only-of-type {\n",
       "        vertical-align: middle;\n",
       "    }\n",
       "\n",
       "    .dataframe tbody tr th {\n",
       "        vertical-align: top;\n",
       "    }\n",
       "\n",
       "    .dataframe thead th {\n",
       "        text-align: right;\n",
       "    }\n",
       "</style>\n",
       "<table border=\"1\" class=\"dataframe\">\n",
       "  <thead>\n",
       "    <tr style=\"text-align: right;\">\n",
       "      <th>logreg_Predicted</th>\n",
       "      <th>0</th>\n",
       "      <th>1</th>\n",
       "    </tr>\n",
       "    <tr>\n",
       "      <th>ground_truth</th>\n",
       "      <th></th>\n",
       "      <th></th>\n",
       "    </tr>\n",
       "  </thead>\n",
       "  <tbody>\n",
       "    <tr>\n",
       "      <th>0</th>\n",
       "      <td>7179</td>\n",
       "      <td>3752</td>\n",
       "    </tr>\n",
       "    <tr>\n",
       "      <th>1</th>\n",
       "      <td>3205</td>\n",
       "      <td>6869</td>\n",
       "    </tr>\n",
       "  </tbody>\n",
       "</table>\n",
       "</div>"
      ],
      "text/plain": [
       "logreg_Predicted     0     1\n",
       "ground_truth                \n",
       "0                 7179  3752\n",
       "1                 3205  6869"
      ]
     },
     "execution_count": 118,
     "metadata": {},
     "output_type": "execute_result"
    }
   ],
   "source": [
    "y_act = pd.Series(y_test, name='ground_truth')\n",
    "y_pred = pd.Series(predicted_classes1, name='logreg_Predicted')\n",
    "df_confusion_mtrx = pd.crosstab(y_act, y_pred)\n",
    "df_confusion_mtrx"
   ]
  },
  {
   "cell_type": "code",
   "execution_count": 119,
   "metadata": {},
   "outputs": [
    {
     "data": {
      "image/png": "[encoded data removed]",
      "text/plain": [
       "<Figure size 288x288 with 2 Axes>"
      ]
     },
     "metadata": {
      "needs_background": "light"
     },
     "output_type": "display_data"
    }
   ],
   "source": [
    "def plot_confusion_matrix(df_confusion, title='Confusion matrix', cmap=plt.cm.Blues):\n",
    "    plt.matshow(df_confusion, cmap=cmap) # imshow\n",
    "    #plt.title(title)\n",
    "    plt.colorbar()\n",
    "    tick_marks = np.arange(len(df_confusion.columns))\n",
    "    plt.xticks(tick_marks, df_confusion.columns, rotation=45)\n",
    "    plt.yticks(tick_marks, df_confusion.index)\n",
    "    #plt.tight_layout()\n",
    "    plt.ylabel(df_confusion.index.name)\n",
    "    plt.xlabel(df_confusion.columns.name)\n",
    "\n",
    "plot_confusion_matrix(df_confusion_mtrx)"
   ]
  },
  {
   "cell_type": "markdown",
   "metadata": {},
   "source": [
    "## Next Steps:\n",
    "\n",
    "### Algorithm (based on region data):\n",
    "- Since we have the \"region\" information of useful \"items\" on the page, we need to train a classifier to take this information as input and predict if the text in that region is useful item or not.\n",
    "\n",
    "- As th region information is a **bounding box**(collection of straight lines) a **logistic regression** model or ensemble of a few logistic regression models should predict the output with acceptable performance\n",
    "\n",
    "- **Reason for logistic regression** : the input data intutively seems to be linearly separable thus a linear regression can be used BUT the **output is (binary)class probabilites** instead of real valued numbers thus a logistic regression method seems like a good choice to start with. \n",
    "\n",
    "- **KNN**: k nearest neighbour is another method that can be explored. As the data points are spatial points, we can classify a region marked by a group of points(co-ordinates of bounding box) by it's k nearest neighbors.\n",
    "\n",
    "### Algorithm (based on NLP):\n",
    "- **NLP add-on**: in the ideal case a model that compares the text-similarity between useful \"items\" can be placed on top of region based model to increase the performance. \n",
    "\n",
    "1. Since the items in a set of domain specific invoices will tend to fall in a similar category their similarity among eachother will be high.\n",
    "\n",
    "2. **(text)Similarity** between useful items and un-useful items from OCR should be low as the un-useful items would be extra(item-unrelated) information captured by OCR. For example: a set of related items for a medical invoice could be medicines and medicinal equipments(bandages, syringes etc.), while un-related items picked by OCR can be extra details on the invoice such hospital address, contact information. \n",
    "\n",
    "3. As the item value is **anonymized** here, moving forward in that direction is difficult as the **linguistic information** that is used when using **word** (or group of words) **embeddings** is lost in anonymization."
   ]
  },
  {
   "cell_type": "markdown",
   "metadata": {},
   "source": [
    "### Questions to think about:\n",
    "* **What is good measure for classification accuracy?**\n",
    "    * Either we make the class distribution fairly uniform in train and test data using upsample or downsample technique and then check model accuracy\n",
    "    * or we check Precision, Recall(True positive rate) and area under the curve for ROC graph\n",
    "* **What are possible shortcomings and extensions of your implementation?**\n",
    "    * I am mostly inclined towards training an ensemble of linear models or a K-nearest neighbor classifier\n",
    "    * Shortcomings: since both the above methods just take \"region\" information in account, they depend on **clear regional separation** of useful items from un-useful ones\n",
    "    * This assumption fails if there's **considerable overlap** in regional positions of two classes\n",
    "    * **Extension**: A NLP(text-similarity) model as described above.\n",
    "* **How would you design a real-time performance system that responds to a high volume of prediction requests efficiently.**\n",
    "    * Idea will be to aim for - high throughput, low latency and near-real time predictions with acceptable error margin.\n",
    "    * Keeping the design such that data ingestion(cleanning, pre-processing, data-distribution), model training and prediction and real-time request processing are well sperated modules.\n",
    "    * **Ideally**:\n",
    "        * specify performance-metrics (NOT accuracy in our case)\n",
    "        * serialized model weigths/parameters and keep separate from prediction module\n",
    "        * automated sanity tests(regression tests) to keep check of failures while updating to a new model\n",
    "        * since the \"domain\" specific invoices tend to keep a fairly fixed structure, I am not sure if nightly updates are required for the model. If YES then a module for \"historical data test\" as baseline tests and \"latest data tests\" should be kept in place in order to get an **early warning**\n",
    "        * rolling out the new updated model in beta releases or limited users and collect feedback on predictions. Move to updated model once it meets minimum base requirements and improves on earlier model results\n",
    "        \n",
    "### Feedback:\n",
    "- the problem statement is really interesting and I enjoyed exploring and working on possible solutions\n",
    "- due to the given **time constraint of 4 hours**, I could only proceed so far. Given more time and \"non-anonymized\" data some more quick solutions could be explored.\n"
   ]
  }
 ],
 "metadata": {
  "kernelspec": {
   "display_name": "Python 3",
   "language": "python",
   "name": "python3"
  },
  "language_info": {
   "codemirror_mode": {
    "name": "ipython",
    "version": 3
   },
   "file_extension": ".py",
   "mimetype": "text/x-python",
   "name": "python",
   "nbconvert_exporter": "python",
   "pygments_lexer": "ipython3",
   "version": "3.7.3"
  }
 },
 "nbformat": 4,
 "nbformat_minor": 2
}
